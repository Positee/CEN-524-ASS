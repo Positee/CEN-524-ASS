{
 "cells": [
  {
   "cell_type": "code",
   "execution_count": 5,
   "id": "3c76c6c2-30ec-4a5c-ab06-addc923e5fff",
   "metadata": {},
   "outputs": [
    {
     "data": {
      "text/plain": [
       "3.0"
      ]
     },
     "execution_count": 5,
     "metadata": {},
     "output_type": "execute_result"
    }
   ],
   "source": [
    "import numpy as np \n",
    "x = [3,0] \n",
    "np.linalg.norm(x)"
   ]
  },
  {
   "cell_type": "code",
   "execution_count": 6,
   "id": "c00d8635-79a2-4b0d-94ad-978898e2b945",
   "metadata": {},
   "outputs": [
    {
     "name": "stdout",
     "output_type": "stream",
     "text": [
      "[0.9486833  0.31622777]\n"
     ]
    }
   ],
   "source": [
    "import numpy as np # Compute the direction of a vector x. \n",
    "def direction(x): \n",
    "    return x/np.linalg.norm(x)\n",
    "\n",
    "u = np.array([3,1]) \n",
    "w = direction(u) \n",
    "print(w) # [0.6 , 0.8]"
   ]
  },
  {
   "cell_type": "code",
   "execution_count": 7,
   "id": "cac1c055-f56d-47d7-b925-1ac4cb1d59ee",
   "metadata": {},
   "outputs": [
    {
     "data": {
      "text/plain": [
       "34.00000000000001"
      ]
     },
     "execution_count": 7,
     "metadata": {},
     "output_type": "execute_result"
    }
   ],
   "source": [
    "import math \n",
    "import numpy as np \n",
    "def geometric_dot_product(x,y, theta): \n",
    "    x_norm = np.linalg.norm(x) \n",
    "    y_norm = np.linalg.norm(y)\n",
    "    return x_norm * y_norm * math.cos(math.radians(theta))\n",
    "\n",
    "theta = 45 \n",
    "x = [3,5] \n",
    "y = [8,2]\n",
    "geometric_dot_product(x,y, theta)"
   ]
  },
  {
   "cell_type": "code",
   "execution_count": 8,
   "id": "29c983af-e377-4aa2-9207-178b24ddad5d",
   "metadata": {},
   "outputs": [
    {
     "name": "stdout",
     "output_type": "stream",
     "text": [
      "Creating matrices:\n",
      "Matrix A:\n",
      "[[1 2 3]\n",
      " [4 5 6]\n",
      " [7 8 9]]\n",
      "\n",
      "Matrix B:\n",
      "[[9 8 7]\n",
      " [6 5 4]\n",
      " [3 2 1]]\n",
      "\n",
      "Matrix addition (A + B):\n",
      "[[10 10 10]\n",
      " [10 10 10]\n",
      " [10 10 10]]\n",
      "\n",
      "Matrix subtraction (A - B):\n",
      "[[-8 -6 -4]\n",
      " [-2  0  2]\n",
      " [ 4  6  8]]\n",
      "\n",
      "Scalar multiplication (2 * A):\n",
      "[[ 2  4  6]\n",
      " [ 8 10 12]\n",
      " [14 16 18]]\n",
      "\n",
      "Matrix multiplication (A @ B or np.matmul(A, B)):\n",
      "[[ 30  24  18]\n",
      " [ 84  69  54]\n",
      " [138 114  90]]\n",
      "\n",
      "Element-wise multiplication (A * B):\n",
      "[[ 9 16 21]\n",
      " [24 25 24]\n",
      " [21 16  9]]\n"
     ]
    }
   ],
   "source": [
    "import matplotlib.pyplot as plt\n",
    "from sklearn.datasets import make_blobs\n",
    "from sklearn.preprocessing import StandardScaler\n",
    "\n",
    "# Set random seed for reproducibility\n",
    "np.random.seed(42)\n",
    "\n",
    "## 1. Basic Matrix Operations\n",
    "\n",
    "# Creating matrices\n",
    "print(\"Creating matrices:\")\n",
    "A = np.array([[1, 2, 3], \n",
    "              [4, 5, 6], \n",
    "              [7, 8, 9]])\n",
    "B = np.array([[9, 8, 7], \n",
    "              [6, 5, 4], \n",
    "              [3, 2, 1]])\n",
    "print(\"Matrix A:\")\n",
    "print(A)\n",
    "print(\"\\nMatrix B:\")\n",
    "print(B)\n",
    "\n",
    "# Matrix addition\n",
    "print(\"\\nMatrix addition (A + B):\")\n",
    "print(A + B)\n",
    "\n",
    "# Matrix subtraction\n",
    "print(\"\\nMatrix subtraction (A - B):\")\n",
    "print(A - B)\n",
    "\n",
    "# Scalar multiplication\n",
    "print(\"\\nScalar multiplication (2 * A):\")\n",
    "print(2 * A)\n",
    "\n",
    "# Matrix multiplication\n",
    "print(\"\\nMatrix multiplication (A @ B or np.matmul(A, B)):\")\n",
    "print(A @ B)\n",
    "# Alternatively: np.matmul(A, B) or A.dot(B)\n",
    "\n",
    "# Element-wise multiplication\n",
    "print(\"\\nElement-wise multiplication (A * B):\")\n",
    "print(A * B)\n"
   ]
  },
  {
   "cell_type": "code",
   "execution_count": 9,
   "id": "267b72aa-9932-482a-8654-21bfd095525d",
   "metadata": {},
   "outputs": [
    {
     "name": "stdout",
     "output_type": "stream",
     "text": [
      "\n",
      "Transpose of A (A.T):\n",
      "[[1 4 7]\n",
      " [2 5 8]\n",
      " [3 6 9]]\n",
      "\n",
      "Inverse of a matrix:\n",
      "Matrix C:\n",
      "[[1 2]\n",
      " [3 4]]\n",
      "Inverse of C:\n",
      "[[-2.   1. ]\n",
      " [ 1.5 -0.5]]\n",
      "Verification (C @ C_inv ≈ I):\n",
      "[[1.00000000e+00 1.11022302e-16]\n",
      " [0.00000000e+00 1.00000000e+00]]\n",
      "\n",
      "Determinant of matrix C:\n",
      "-2.0000000000000004\n"
     ]
    }
   ],
   "source": [
    "# Matrix transpose\n",
    "print(\"\\nTranspose of A (A.T):\")\n",
    "print(A.T)\n",
    "\n",
    "# Matrix inverse (using NumPy's linalg module)\n",
    "print(\"\\nInverse of a matrix:\")\n",
    "C = np.array([[1, 2], [3, 4]])  # A is singular, so using a different matrix\n",
    "C_inv = np.linalg.inv(C)\n",
    "print(\"Matrix C:\")\n",
    "print(C)\n",
    "print(\"Inverse of C:\")\n",
    "print(C_inv)\n",
    "print(\"Verification (C @ C_inv ≈ I):\")\n",
    "print(C @ C_inv)\n",
    "\n",
    "# Determinant\n",
    "print(\"\\nDeterminant of matrix C:\")\n",
    "det_C = np.linalg.det(C)\n",
    "print(det_C)\n"
   ]
  },
  {
   "cell_type": "code",
   "execution_count": 10,
   "id": "95d3b8ae-c36f-4381-85a3-425c7961ab54",
   "metadata": {},
   "outputs": [
    {
     "name": "stdout",
     "output_type": "stream",
     "text": [
      "\n",
      "\n",
      "--- EIGENVALUES AND EIGENVECTORS ---\n",
      "\n",
      "Matrix D (symmetric):\n",
      "[[ 2 -1  0]\n",
      " [-1  2 -1]\n",
      " [ 0 -1  2]]\n",
      "\n",
      "Eigenvalues of D:\n",
      "[3.41421356 2.         0.58578644]\n",
      "\n",
      "Eigenvectors of D (columns of the matrix):\n",
      "[[-5.00000000e-01 -7.07106781e-01  5.00000000e-01]\n",
      " [ 7.07106781e-01  5.09486455e-16  7.07106781e-01]\n",
      " [-5.00000000e-01  7.07106781e-01  5.00000000e-01]]\n",
      "\n",
      "Verification of Av = λv:\n",
      "Left side (D @ v): [-1.70710678  2.41421356 -1.70710678]\n",
      "Right side (λ * v): [-1.70710678  2.41421356 -1.70710678]\n"
     ]
    }
   ],
   "source": [
    "print(\"\\n\\n--- EIGENVALUES AND EIGENVECTORS ---\\n\")\n",
    "\n",
    "# Create a symmetric matrix for better visualization of eigenvectors\n",
    "D = np.array([[2, -1, 0], \n",
    "              [-1, 2, -1], \n",
    "              [0, -1, 2]])\n",
    "\n",
    "print(\"Matrix D (symmetric):\")\n",
    "print(D)\n",
    "\n",
    "# Compute eigenvalues and eigenvectors\n",
    "eigenvalues, eigenvectors = np.linalg.eig(D)\n",
    "\n",
    "print(\"\\nEigenvalues of D:\")\n",
    "print(eigenvalues)\n",
    "\n",
    "print(\"\\nEigenvectors of D (columns of the matrix):\")\n",
    "print(eigenvectors)\n",
    "\n",
    "# Verify Av = λv for the first eigenvalue-eigenvector pair\n",
    "first_eigenvalue = eigenvalues[0]\n",
    "first_eigenvector = eigenvectors[:, 0]\n",
    "\n",
    "print(\"\\nVerification of Av = λv:\")\n",
    "print(f\"Left side (D @ v): {D @ first_eigenvector}\")\n",
    "print(f\"Right side (λ * v): {first_eigenvalue * first_eigenvector}\")"
   ]
  },
  {
   "cell_type": "code",
   "execution_count": 11,
   "id": "1868e25e-dde0-483a-acdc-0119d7beaede",
   "metadata": {},
   "outputs": [
    {
     "name": "stdout",
     "output_type": "stream",
     "text": [
      "\n",
      "\n",
      "--- EIGENDECOMPOSITION ---\n",
      "\n",
      "Diagonal matrix of eigenvalues:\n",
      "[[3.41421356 0.         0.        ]\n",
      " [0.         2.         0.        ]\n",
      " [0.         0.         0.58578644]]\n",
      "\n",
      "Original matrix D:\n",
      "[[ 2 -1  0]\n",
      " [-1  2 -1]\n",
      " [ 0 -1  2]]\n",
      "\n",
      "Reconstructed matrix from eigendecomposition:\n",
      "[[ 2.00000000e+00 -1.00000000e+00 -8.58450316e-16]\n",
      " [-1.00000000e+00  2.00000000e+00 -1.00000000e+00]\n",
      " [-7.67631909e-16 -1.00000000e+00  2.00000000e+00]]\n",
      "\n",
      "Difference (should be close to zero):\n",
      "[[ 1.33226763e-15 -7.77156117e-16  8.58450316e-16]\n",
      " [-8.88178420e-16  1.77635684e-15 -1.33226763e-15]\n",
      " [ 7.67631909e-16 -9.99200722e-16  4.44089210e-16]]\n"
     ]
    }
   ],
   "source": [
    "## 3. Eigendecomposition\n",
    "\n",
    "print(\"\\n\\n--- EIGENDECOMPOSITION ---\\n\")\n",
    "\n",
    "# Eigendecomposition: A = PDP^(-1)\n",
    "# where P is the matrix of eigenvectors and D is diagonal matrix of eigenvalues\n",
    "\n",
    "# Create diagonal matrix of eigenvalues\n",
    "D_eigen = np.diag(eigenvalues)\n",
    "\n",
    "print(\"Diagonal matrix of eigenvalues:\")\n",
    "print(D_eigen)\n",
    "\n",
    "# Compute P^(-1)\n",
    "P_inv = np.linalg.inv(eigenvectors)\n",
    "\n",
    "# Reconstruct original matrix\n",
    "D_reconstructed = eigenvectors @ D_eigen @ P_inv\n",
    "\n",
    "print(\"\\nOriginal matrix D:\")\n",
    "print(D)\n",
    "print(\"\\nReconstructed matrix from eigendecomposition:\")\n",
    "print(D_reconstructed)\n",
    "print(\"\\nDifference (should be close to zero):\")\n",
    "print(D - D_reconstructed)"
   ]
  },
  {
   "cell_type": "code",
   "execution_count": null,
   "id": "5d630744-97b2-4125-b1b9-7cdab43bf234",
   "metadata": {},
   "outputs": [],
   "source": []
  },
  {
   "cell_type": "code",
   "execution_count": null,
   "id": "18b29ef7-8f91-4e99-8e13-1c8e54374150",
   "metadata": {},
   "outputs": [],
   "source": []
  }
 ],
 "metadata": {
  "kernelspec": {
   "display_name": "Python 3 (ipykernel)",
   "language": "python",
   "name": "python3"
  },
  "language_info": {
   "codemirror_mode": {
    "name": "ipython",
    "version": 3
   },
   "file_extension": ".py",
   "mimetype": "text/x-python",
   "name": "python",
   "nbconvert_exporter": "python",
   "pygments_lexer": "ipython3",
   "version": "3.8.20"
  }
 },
 "nbformat": 4,
 "nbformat_minor": 5
}
