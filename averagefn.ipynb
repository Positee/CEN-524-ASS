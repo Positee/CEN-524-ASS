{
 "cells": [
  {
   "cell_type": "code",
   "execution_count": 4,
   "id": "75ee2dd9-201e-4c7c-bfc1-d7177ef7990f",
   "metadata": {},
   "outputs": [
    {
     "name": "stdout",
     "output_type": "stream",
     "text": [
      "[2 3 4 5 6]\n"
     ]
    }
   ],
   "source": [
    "a = [1,2,3,4,5]\n",
    "import numpy as np\n",
    "a = np.array(a)\n",
    "b = [1,1,1,1,1]\n",
    "b= np.array(b)\n",
    "c = a+b\n",
    "d = np.sum(a)\n",
    "print(c)"
   ]
  },
  {
   "cell_type": "code",
   "execution_count": 13,
   "id": "2391da5d-218a-48e7-ac45-de83c20a9b5a",
   "metadata": {},
   "outputs": [
    {
     "data": {
      "text/plain": [
       "4.0"
      ]
     },
     "execution_count": 13,
     "metadata": {},
     "output_type": "execute_result"
    }
   ],
   "source": [
    "def averagecalc(arr):\n",
    "    sum = 0\n",
    "    for i in range(len(arr)):\n",
    "        sum+=arr[i]\n",
    "    return sum/len(arr)\n",
    "\n",
    "averagecalc(c)"
   ]
  },
  {
   "cell_type": "code",
   "execution_count": null,
   "id": "f77eb8e7-7e48-431a-bd4c-029f91d148e5",
   "metadata": {},
   "outputs": [],
   "source": []
  }
 ],
 "metadata": {
  "kernelspec": {
   "display_name": "Python 3 (ipykernel)",
   "language": "python",
   "name": "python3"
  },
  "language_info": {
   "codemirror_mode": {
    "name": "ipython",
    "version": 3
   },
   "file_extension": ".py",
   "mimetype": "text/x-python",
   "name": "python",
   "nbconvert_exporter": "python",
   "pygments_lexer": "ipython3",
   "version": "3.8.20"
  }
 },
 "nbformat": 4,
 "nbformat_minor": 5
}
