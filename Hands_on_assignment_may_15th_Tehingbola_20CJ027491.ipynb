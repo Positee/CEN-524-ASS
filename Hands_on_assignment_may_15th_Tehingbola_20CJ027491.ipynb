{
 "cells": [
  {
   "cell_type": "code",
   "execution_count": 37,
   "id": "1aaa4486",
   "metadata": {},
   "outputs": [
    {
     "name": "stdout",
     "output_type": "stream",
     "text": [
      "Sample data (first 10 rows):\n",
      "   Daily_Working_Hours  Screen_Time  Productivity_Score\n",
      "0             6.996321     0.471438            4.618396\n",
      "1            11.605714     9.546156           10.000000\n",
      "2             9.855952     4.715340           10.000000\n",
      "3             8.789268     7.628560           10.000000\n",
      "4             5.248149    13.613497           10.000000\n",
      "5             5.247956     3.739383            5.670193\n",
      "6             4.464669     6.155744            2.449103\n",
      "7            10.929409    11.333267           10.000000\n",
      "8             8.808920     3.431972            9.755648\n",
      "9             9.664581     1.154699            8.153816\n",
      "\n",
      "Basic statistics:\n",
      "       Daily_Working_Hours  Screen_Time  Productivity_Score\n",
      "count           100.000000   100.000000          100.000000\n",
      "mean              7.761446     7.467476            8.081673\n",
      "std               2.379915     4.396669            2.754900\n",
      "min               4.044177     0.104282            0.000000\n",
      "25%               5.545606     3.630068            6.792031\n",
      "50%               7.713140     7.584373            9.843149\n",
      "75%               9.841625    11.492754           10.000000\n",
      "max              11.895095    14.784757           10.000000\n",
      "\n",
      "Correlation matrix:\n",
      "                     Daily_Working_Hours  Screen_Time  Productivity_Score\n",
      "Daily_Working_Hours             1.000000    -0.034033            0.496721\n",
      "Screen_Time                    -0.034033     1.000000            0.488732\n",
      "Productivity_Score              0.496721     0.488732            1.000000\n"
     ]
    }
   ],
   "source": [
    "import numpy as np\n",
    "import pandas as pd\n",
    "import matplotlib.pyplot as plt\n",
    "from mpl_toolkits.mplot3d import Axes3D\n",
    "\n",
    "\n",
    "np.random.seed(42)\n",
    "\n",
    "\n",
    "n_samples = 100\n",
    "\n",
    "# Generate feature 1: Hours worked per day (range: 4-12 hours)\n",
    "hours_worked = np.random.uniform(4, 12, n_samples)\n",
    "\n",
    "# Generate feature 2: Experience level (years, range: 0-15 years)\n",
    "experience_years = np.random.uniform(0, 15, n_samples)\n",
    "\n",
    "\n",
    "hours_effect = -0.5 * (hours_worked - 8.5)**2 + 5  # Peak productivity around 8-9 hours\n",
    "\n",
    "\n",
    "experience_effect = 3 * np.log(experience_years + 1)\n",
    "\n",
    "\n",
    "interaction_effect = 0.1 * hours_worked * np.log(experience_years + 1)\n",
    "\n",
    "\n",
    "noise = np.random.normal(0, 1, n_samples)\n",
    "\n",
    "\n",
    "productivity = hours_effect + experience_effect + interaction_effect + noise\n",
    "\n",
    "\n",
    "productivity = np.clip(productivity, 0, 10)\n",
    "\n",
    "\n",
    "data = pd.DataFrame({\n",
    "    'Daily_Working_Hours': hours_worked,\n",
    "    'Screen_Time': experience_years,\n",
    "    'Productivity_Score': productivity\n",
    "})\n",
    "\n",
    "x_fake = data.drop(\"Productivity_Score\", axis=1)\n",
    "y_fake = data['Productivity_Score']\n",
    "\n",
    "print(\"Sample data (first 10 rows):\")\n",
    "print(data.head(10))\n",
    "\n",
    "\n",
    "print(\"\\nBasic statistics:\")\n",
    "print(data.describe())\n",
    "\n",
    "\n",
    "print(\"\\nCorrelation matrix:\")\n",
    "correlation_matrix = data.corr()\n",
    "print(correlation_matrix)\n",
    "\n",
    "\n",
    "\n",
    "\n",
    "\n",
    "\n",
    "\n",
    "\n"
   ]
  },
  {
   "cell_type": "code",
   "execution_count": 38,
   "id": "c1f8fa86",
   "metadata": {},
   "outputs": [
    {
     "name": "stdout",
     "output_type": "stream",
     "text": [
      "  Employee_ID  Daily_Working_Hours  Screen_Time  Meetings_Attended  \\\n",
      "0      E00001                  7.0          5.6                  5   \n",
      "1      E00002                 11.6          5.3                  1   \n",
      "2      E00003                  9.9          4.2                  3   \n",
      "3      E00004                  8.8          7.3                  4   \n",
      "4      E00005                  5.2          6.3                  4   \n",
      "\n",
      "   Emails_Sent  Productivity_Score  Stress_Level  Physical_Activity_Steps  \\\n",
      "0           30                   3             5                    11501   \n",
      "1           30                   5             6                     5742   \n",
      "2           21                   8             4                     4852   \n",
      "3           99                   1             9                    11928   \n",
      "4           87                   2             3                     7665   \n",
      "\n",
      "   Sleep_Duration  Work_Life_Balance_Satisfaction  \n",
      "0             5.8                               4  \n",
      "1             8.7                               2  \n",
      "2             4.7                               1  \n",
      "3             4.3                               2  \n",
      "4             7.9                               7  \n"
     ]
    }
   ],
   "source": [
    "data = pd.read_csv(\"global_remote_work_wellbeing.csv\")\n",
    "print(data.head())"
   ]
  },
  {
   "cell_type": "code",
   "execution_count": 39,
   "id": "c074aaec",
   "metadata": {
    "scrolled": true
   },
   "outputs": [
    {
     "name": "stdout",
     "output_type": "stream",
     "text": [
      "      Daily_Working_Hours  Screen_Time\n",
      "0                     7.0          5.6\n",
      "1                    11.6          5.3\n",
      "2                     9.9          4.2\n",
      "3                     8.8          7.3\n",
      "4                     5.2          6.3\n",
      "...                   ...          ...\n",
      "9995                 10.9          9.1\n",
      "9996                 11.2          3.3\n",
      "9997                 11.6          5.1\n",
      "9998                  7.2          6.1\n",
      "9999                  5.7          4.2\n",
      "\n",
      "[10000 rows x 2 columns]\n",
      "0       3\n",
      "1       5\n",
      "2       8\n",
      "3       1\n",
      "4       2\n",
      "       ..\n",
      "9995    3\n",
      "9996    6\n",
      "9997    1\n",
      "9998    8\n",
      "9999    2\n",
      "Name: Productivity_Score, Length: 10000, dtype: int64\n"
     ]
    }
   ],
   "source": [
    "x_real = data[[\"Daily_Working_Hours\", \"Screen_Time\"]]\n",
    "y_real = data[\"Productivity_Score\"]\n",
    "print(x_real)\n",
    "print(y_real)"
   ]
  },
  {
   "cell_type": "code",
   "execution_count": 40,
   "id": "ffb6444e",
   "metadata": {},
   "outputs": [],
   "source": [
    "from sklearn.preprocessing import StandardScaler"
   ]
  },
  {
   "cell_type": "code",
   "execution_count": 41,
   "id": "c9cebad8",
   "metadata": {},
   "outputs": [],
   "source": [
    "scaler = StandardScaler()\n",
    "scaler.fit(X_fake)\n",
    "X_fake_scaled = scaler.transform(x_fake)\n",
    "X_real_scaled = scaler.transform(x_real)"
   ]
  },
  {
   "cell_type": "code",
   "execution_count": 42,
   "id": "be3cf29d",
   "metadata": {},
   "outputs": [
    {
     "name": "stdout",
     "output_type": "stream",
     "text": [
      "Epoch 1/100 - MSE: 69.7023, MAE: 8.0817\n",
      "Epoch 11/100 - MSE: 47.7709, MAE: 6.6033\n",
      "Epoch 21/100 - MSE: 33.1310, MAE: 5.4140\n",
      "Epoch 31/100 - MSE: 23.3585, MAE: 4.4641\n",
      "Epoch 41/100 - MSE: 16.8349, MAE: 3.7158\n",
      "Epoch 51/100 - MSE: 12.4802, MAE: 3.1437\n",
      "Epoch 61/100 - MSE: 9.5733, MAE: 2.7131\n",
      "Epoch 71/100 - MSE: 7.6328, MAE: 2.4012\n",
      "Epoch 81/100 - MSE: 6.3375, MAE: 2.1785\n",
      "Epoch 91/100 - MSE: 5.4728, MAE: 2.0068\n",
      "Epoch 100/100 - MSE: 4.9434, MAE: 1.8917\n",
      "\n",
      "Final weights: [1.50033976 1.34696716]\n",
      "Final bias: 7.009885509161657\n"
     ]
    },
    {
     "data": {
      "image/png": "[encoded data removed]",
      "text/plain": [
       "<Figure size 1000x600 with 1 Axes>"
      ]
     },
     "metadata": {},
     "output_type": "display_data"
    }
   ],
   "source": [
    "global weights, bias\n",
    "weights = np.random.randn(2)\n",
    "bias = 0.0\n",
    "\n",
    "# Hyperparameters\n",
    "learning_rate = 0.01\n",
    "epochs = 100\n",
    "\n",
    "# Store loss values\n",
    "mse_history = []\n",
    "mae_history = []\n",
    "\n",
    "# Training loop\n",
    "for epoch in range(epochs):\n",
    "    # Forward pass\n",
    "    y_pred = X_fake_scaled @ weights + bias\n",
    "\n",
    "    # Loss computation\n",
    "    mse_loss = np.mean((y_fake - y_pred) ** 2)\n",
    "    mae_loss = np.mean(np.abs(y_fake - y_pred))\n",
    "\n",
    "    # Save losses\n",
    "    mse_history.append(mse_loss)\n",
    "    mae_history.append(mae_loss)\n",
    "\n",
    "    # Gradients for MSE\n",
    "    error = y_pred - y_fake\n",
    "    grad_weights = (2 / len(X_fake_scaled)) * (X_fake_scaled.T @ error)\n",
    "    grad_bias = (2 / len(X_fake_scaled)) * np.sum(error)\n",
    "\n",
    "    # Gradient descent update\n",
    "    weights -= learning_rate * grad_weights\n",
    "    bias -= learning_rate * grad_bias\n",
    "\n",
    "    # Logging\n",
    "    if epoch % 10 == 0 or epoch == epochs - 1:\n",
    "        print(f\"Epoch {epoch+1}/{epochs} - MSE: {mse_loss:.4f}, MAE: {mae_loss:.4f}\")\n",
    "\n",
    "# Final weights\n",
    "print(\"\\nFinal weights:\", weights)\n",
    "print(\"Final bias:\", bias)\n",
    "\n",
    "# 🎨 Plotting the Loss\n",
    "plt.figure(figsize=(10, 6))\n",
    "plt.plot(range(epochs), mse_history, label='MSE Loss', color='blue', linewidth=2)\n",
    "plt.plot(range(epochs), mae_history, label='MAE Loss', color='orange', linewidth=2)\n",
    "plt.xlabel('Epochs')\n",
    "plt.ylabel('Loss')\n",
    "plt.title('Loss Over Epochs')\n",
    "plt.legend()\n",
    "plt.grid(True)\n",
    "plt.tight_layout()\n",
    "plt.show()"
   ]
  },
  {
   "cell_type": "code",
   "execution_count": 43,
   "id": "efa76abe",
   "metadata": {},
   "outputs": [
    {
     "name": "stdout",
     "output_type": "stream",
     "text": [
      "MSE: \n",
      " 12.518956161575499\n",
      "MAE: \n",
      " 2.916110737653642\n"
     ]
    }
   ],
   "source": [
    "from sklearn.metrics import mean_squared_error, mean_absolute_error\n",
    "def predict(X_new):\n",
    "    global weights, bias\n",
    "    return X_new @ weights + bias\n",
    "\n",
    "y_real_pred = predict(X_real_scaled)\n",
    "\n",
    "mae = mean_absolute_error(y_real, y_real_pred)\n",
    "mse = mean_squared_error(y_real, y_real_pred)\n",
    "\n",
    "print(\"MSE: \\n\", mse)\n",
    "print(\"MAE: \\n\", mae)\n",
    "\n"
   ]
  },
  {
   "cell_type": "code",
   "execution_count": 45,
   "id": "36626cb2",
   "metadata": {},
   "outputs": [],
   "source": [
    "#answer to the questions\n",
    "# Q1: How does normalization affect the feature values?\n",
    "# Normalization centers features around 0 with unit variance, improving gradient descent stability and speed.\n",
    "\n",
    "# Q2: Why does MSE penalize larger errors more than MAE?\n",
    "# MSE squares errors, making large deviations more impactful than MAE which treats all errors linearly.\n",
    "\n",
    "# Q3: How does the learning rate affect convergence?\n",
    "# A small learning rate slows convergence; a large one may overshoot or diverge.\n",
    "\n",
    "# Q4: Why might the model perform differently on real vs. synthetic data?\n",
    "# Real data has more noise, complexity, and unmodeled patterns, making it harder to fit than clean synthetic data.\n",
    "\n",
    "# Q5: How does the choice of cost function (MSE vs. MAE) affect optimization?\n",
    "# MSE is smoother and differentiable everywhere, favoring gradient descent; MAE is robust to outliers but less smooth.\n",
    "\n",
    "# Q6: What challenges arise when scaling to multiple features?\n",
    "# Features on different scales may dominate training; also, model complexity increases, requiring more data and computation.\n",
    "\n",
    "# Q7: How does gradient descent compare to scikit-learn's built-in linear regression?\n",
    "# Gradient descent is iterative and tunable; scikit-learn uses a closed-form solution (least squares) that's faster and more stable for small datasets.\n"
   ]
  },
  {
   "cell_type": "code",
   "execution_count": null,
   "id": "18ba9a25",
   "metadata": {},
   "outputs": [],
   "source": []
  }
 ],
 "metadata": {
  "kernelspec": {
   "display_name": "Python (ai_env)",
   "language": "python",
   "name": "ai_env"
  },
  "language_info": {
   "codemirror_mode": {
    "name": "ipython",
    "version": 3
   },
   "file_extension": ".py",
   "mimetype": "text/x-python",
   "name": "python",
   "nbconvert_exporter": "python",
   "pygments_lexer": "ipython3",
   "version": "3.10.16"
  }
 },
 "nbformat": 4,
 "nbformat_minor": 5
}
